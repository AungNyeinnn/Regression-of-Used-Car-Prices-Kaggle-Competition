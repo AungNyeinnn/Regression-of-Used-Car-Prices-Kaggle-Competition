{
 "cells": [
  {
   "cell_type": "markdown",
   "id": "71b7bf5b",
   "metadata": {},
   "source": [
    "# Regression of Used Car Prices"
   ]
  },
  {
   "cell_type": "markdown",
   "id": "b2944e1b",
   "metadata": {},
   "source": [
    "The goal of this project is to predict the price of used cars based on various attributes."
   ]
  },
  {
   "cell_type": "code",
   "execution_count": null,
   "id": "b18381e6",
   "metadata": {},
   "outputs": [],
   "source": [
    "!pip install category_encoders\n",
    "import category_encoders as ce\n",
    "import pandas as pd\n",
    "from sklearn.ensemble import RandomForestRegressor\n",
    "from sklearn.model_selection import GridSearchCV\n",
    "from sklearn.preprocessing import LabelEncoder\n",
    "from sklearn.model_selection import cross_val_score, KFold\n",
    "from sklearn.model_selection import train_test_split\n",
    "from sklearn.metrics import mean_squared_error\n",
    "import re"
   ]
  },
  {
   "cell_type": "code",
   "execution_count": 48,
   "id": "a47da3a6",
   "metadata": {},
   "outputs": [
    {
     "name": "stdout",
     "output_type": "stream",
     "text": [
      "<class 'pandas.core.frame.DataFrame'>\n",
      "RangeIndex: 188533 entries, 0 to 188532\n",
      "Data columns (total 13 columns):\n",
      " #   Column        Non-Null Count   Dtype \n",
      "---  ------        --------------   ----- \n",
      " 0   id            188533 non-null  int64 \n",
      " 1   brand         188533 non-null  object\n",
      " 2   model         188533 non-null  object\n",
      " 3   model_year    188533 non-null  int64 \n",
      " 4   milage        188533 non-null  int64 \n",
      " 5   fuel_type     183450 non-null  object\n",
      " 6   engine        188533 non-null  object\n",
      " 7   transmission  188533 non-null  object\n",
      " 8   ext_col       188533 non-null  object\n",
      " 9   int_col       188533 non-null  object\n",
      " 10  accident      186081 non-null  object\n",
      " 11  clean_title   167114 non-null  object\n",
      " 12  price         188533 non-null  int64 \n",
      "dtypes: int64(4), object(9)\n",
      "memory usage: 18.7+ MB\n"
     ]
    }
   ],
   "source": [
    "#Reading the data\n",
    "train= pd.read_csv('train.csv')\n",
    "test= pd.read_csv('test.csv')\n",
    "train.info()"
   ]
  },
  {
   "cell_type": "code",
   "execution_count": 49,
   "id": "f1152bdd",
   "metadata": {},
   "outputs": [
    {
     "data": {
      "text/plain": [
       "id              188533\n",
       "brand               57\n",
       "model             1897\n",
       "model_year          34\n",
       "milage            6651\n",
       "fuel_type            7\n",
       "engine            1117\n",
       "transmission        52\n",
       "ext_col            319\n",
       "int_col            156\n",
       "accident             2\n",
       "clean_title          1\n",
       "price             1569\n",
       "dtype: int64"
      ]
     },
     "execution_count": 49,
     "metadata": {},
     "output_type": "execute_result"
    }
   ],
   "source": [
    "#The number of unique values in each column\n",
    "train.nunique()"
   ]
  },
  {
   "cell_type": "code",
   "execution_count": 50,
   "id": "752c6768",
   "metadata": {},
   "outputs": [],
   "source": [
    "#Due to high number of categories, one-hot encoding and label-encoding are not ideal for brand, model, and transmission. \n",
    "#Target encoding for brand, model, and transmission\n",
    "target_encoder = ce.TargetEncoder(cols=['brand', 'model', 'transmission'], smoothing=0.2)\n",
    "\n",
    "#Fit the encoder on the train DataFrame\n",
    "encoded_train = target_encoder.fit_transform(train[['brand', 'model', 'transmission']], train['price'])\n",
    "train['encoded_brand'] = encoded_train['brand']\n",
    "train['encoded_model'] = encoded_train['model']\n",
    "train['encoded_transmission'] = encoded_train['transmission']\n",
    "\n",
    "# Assign the encoded values back to the test DataFrame\n",
    "encoded_test = target_encoder.transform(test[['brand','model', 'transmission']])\n",
    "test['encoded_brand'] = encoded_test['brand']\n",
    "test['encoded_model'] = encoded_test['model']\n",
    "test['encoded_transmission'] = encoded_test['transmission']"
   ]
  },
  {
   "cell_type": "code",
   "execution_count": 51,
   "id": "f53ed7b9",
   "metadata": {},
   "outputs": [],
   "source": [
    "#Description of engine had two components: engine power in horsepower and engine size in liters.\n",
    "#They can be extracted from the description using regular expression.   \n",
    "\n",
    "def extract_horsepower(description):\n",
    "    # Define a regex pattern to match horsepower values\n",
    "    pattern = r'(\\d+(?:\\.\\d{1,2})?)\\s*(hp|horsepower|HP)'\n",
    "    match = re.search(pattern, description, re.IGNORECASE)\n",
    "    if match:\n",
    "        return float(match.group(1))\n",
    "    else:\n",
    "        return None\n",
    "train['engine_horsepower'] = train['engine'].apply(extract_horsepower)\n",
    "test['engine_horsepower'] = test['engine'].apply(extract_horsepower)\n",
    "\n",
    "#Fill null values with mean\n",
    "means=train['engine_horsepower'].mean()\n",
    "train['engine_horsepower']=train['engine_horsepower'].fillna(means)\n",
    "test['engine_horsepower']=test['engine_horsepower'].fillna(means)"
   ]
  },
  {
   "cell_type": "code",
   "execution_count": 52,
   "id": "eaa7da42",
   "metadata": {},
   "outputs": [],
   "source": [
    "def extract_engine_size(description):\n",
    "    # Regex pattern for engine size in liters\n",
    "    pattern = r'(\\d+(?:\\.\\d{1,2})?)\\s*L'\n",
    "    match = re.search(pattern, description, re.IGNORECASE)\n",
    "    if match:\n",
    "        return float(match.group(1))  # Return engine size as float\n",
    "    return None\n",
    "train['engine_liters'] = train['engine'].apply(extract_engine_size)\n",
    "test['engine_liters'] = test['engine'].apply(extract_engine_size)\n",
    "\n",
    "#Fill null values with mean\n",
    "means=train['engine_liters'].mean()\n",
    "train['engine_liters']=train['engine_liters'].fillna(means)\n",
    "test['engine_liters']=test['engine_liters'].fillna(means)"
   ]
  },
  {
   "cell_type": "code",
   "execution_count": 53,
   "id": "d4462588",
   "metadata": {},
   "outputs": [],
   "source": [
    "#Label encoding for accident\n",
    "categorical_columns = [ 'accident'  ]\n",
    "unknown_category = -1\n",
    "# Encode categorical columns\n",
    "for col in categorical_columns:\n",
    "    le = LabelEncoder()    \n",
    "    train[col] = le.fit_transform(train[col])    \n",
    "    test[col] = test[col].apply(lambda x: le.transform([x])[0] if x in le.classes_ else unknown_category)"
   ]
  },
  {
   "cell_type": "code",
   "execution_count": 54,
   "id": "ada66220",
   "metadata": {},
   "outputs": [],
   "source": [
    "#Defining inputs and output\n",
    "features= ['model_year','milage','accident','encoded_brand', 'encoded_model','encoded_transmission','engine_horsepower', 'engine_liters']\n",
    "X_train=train[features]\n",
    "X_test= test[features]\n",
    "y_train= train['price']\n",
    "X1, X2, y1, y2 = train_test_split(X_train, y_train, test_size=0.2,stratify=y_train)\n"
   ]
  },
  {
   "cell_type": "code",
   "execution_count": 55,
   "id": "16dec060",
   "metadata": {},
   "outputs": [
    {
     "data": {
      "text/html": [
       "<div>\n",
       "<style scoped>\n",
       "    .dataframe tbody tr th:only-of-type {\n",
       "        vertical-align: middle;\n",
       "    }\n",
       "\n",
       "    .dataframe tbody tr th {\n",
       "        vertical-align: top;\n",
       "    }\n",
       "\n",
       "    .dataframe thead th {\n",
       "        text-align: right;\n",
       "    }\n",
       "</style>\n",
       "<table border=\"1\" class=\"dataframe\">\n",
       "  <thead>\n",
       "    <tr style=\"text-align: right;\">\n",
       "      <th></th>\n",
       "      <th>model_year</th>\n",
       "      <th>milage</th>\n",
       "      <th>accident</th>\n",
       "      <th>encoded_brand</th>\n",
       "      <th>encoded_model</th>\n",
       "      <th>encoded_transmission</th>\n",
       "      <th>engine_horsepower</th>\n",
       "      <th>engine_liters</th>\n",
       "    </tr>\n",
       "  </thead>\n",
       "  <tbody>\n",
       "    <tr>\n",
       "      <th>0</th>\n",
       "      <td>2007</td>\n",
       "      <td>213000</td>\n",
       "      <td>1</td>\n",
       "      <td>17162.015977</td>\n",
       "      <td>12832.716263</td>\n",
       "      <td>31711.979140</td>\n",
       "      <td>172.0</td>\n",
       "      <td>1.6</td>\n",
       "    </tr>\n",
       "    <tr>\n",
       "      <th>1</th>\n",
       "      <td>2002</td>\n",
       "      <td>143250</td>\n",
       "      <td>0</td>\n",
       "      <td>30712.595130</td>\n",
       "      <td>12663.379310</td>\n",
       "      <td>31711.979140</td>\n",
       "      <td>252.0</td>\n",
       "      <td>3.9</td>\n",
       "    </tr>\n",
       "    <tr>\n",
       "      <th>2</th>\n",
       "      <td>2002</td>\n",
       "      <td>136731</td>\n",
       "      <td>1</td>\n",
       "      <td>41836.755127</td>\n",
       "      <td>23779.677419</td>\n",
       "      <td>31711.979140</td>\n",
       "      <td>320.0</td>\n",
       "      <td>5.3</td>\n",
       "    </tr>\n",
       "    <tr>\n",
       "      <th>3</th>\n",
       "      <td>2017</td>\n",
       "      <td>19500</td>\n",
       "      <td>1</td>\n",
       "      <td>53556.327141</td>\n",
       "      <td>48915.842105</td>\n",
       "      <td>50201.815580</td>\n",
       "      <td>420.0</td>\n",
       "      <td>5.0</td>\n",
       "    </tr>\n",
       "    <tr>\n",
       "      <th>4</th>\n",
       "      <td>2021</td>\n",
       "      <td>7388</td>\n",
       "      <td>1</td>\n",
       "      <td>51244.399541</td>\n",
       "      <td>64896.257198</td>\n",
       "      <td>47123.507371</td>\n",
       "      <td>208.0</td>\n",
       "      <td>2.0</td>\n",
       "    </tr>\n",
       "  </tbody>\n",
       "</table>\n",
       "</div>"
      ],
      "text/plain": [
       "   model_year  milage  accident  encoded_brand  encoded_model  \\\n",
       "0        2007  213000         1   17162.015977   12832.716263   \n",
       "1        2002  143250         0   30712.595130   12663.379310   \n",
       "2        2002  136731         1   41836.755127   23779.677419   \n",
       "3        2017   19500         1   53556.327141   48915.842105   \n",
       "4        2021    7388         1   51244.399541   64896.257198   \n",
       "\n",
       "   encoded_transmission  engine_horsepower  engine_liters  \n",
       "0          31711.979140              172.0            1.6  \n",
       "1          31711.979140              252.0            3.9  \n",
       "2          31711.979140              320.0            5.3  \n",
       "3          50201.815580              420.0            5.0  \n",
       "4          47123.507371              208.0            2.0  "
      ]
     },
     "execution_count": 55,
     "metadata": {},
     "output_type": "execute_result"
    }
   ],
   "source": [
    "X_train.head()"
   ]
  },
  {
   "cell_type": "code",
   "execution_count": 56,
   "id": "cc15f8d6",
   "metadata": {},
   "outputs": [
    {
     "data": {
      "text/html": [
       "<div>\n",
       "<style scoped>\n",
       "    .dataframe tbody tr th:only-of-type {\n",
       "        vertical-align: middle;\n",
       "    }\n",
       "\n",
       "    .dataframe tbody tr th {\n",
       "        vertical-align: top;\n",
       "    }\n",
       "\n",
       "    .dataframe thead th {\n",
       "        text-align: right;\n",
       "    }\n",
       "</style>\n",
       "<table border=\"1\" class=\"dataframe\">\n",
       "  <thead>\n",
       "    <tr style=\"text-align: right;\">\n",
       "      <th></th>\n",
       "      <th>model_year</th>\n",
       "      <th>milage</th>\n",
       "      <th>accident</th>\n",
       "      <th>encoded_brand</th>\n",
       "      <th>encoded_model</th>\n",
       "      <th>encoded_transmission</th>\n",
       "      <th>engine_horsepower</th>\n",
       "      <th>engine_liters</th>\n",
       "    </tr>\n",
       "  </thead>\n",
       "  <tbody>\n",
       "    <tr>\n",
       "      <th>0</th>\n",
       "      <td>2015</td>\n",
       "      <td>98000</td>\n",
       "      <td>1</td>\n",
       "      <td>53204.880000</td>\n",
       "      <td>19582.380000</td>\n",
       "      <td>25864.659998</td>\n",
       "      <td>240.000000</td>\n",
       "      <td>2.0</td>\n",
       "    </tr>\n",
       "    <tr>\n",
       "      <th>1</th>\n",
       "      <td>2020</td>\n",
       "      <td>9142</td>\n",
       "      <td>1</td>\n",
       "      <td>53204.880000</td>\n",
       "      <td>74242.182266</td>\n",
       "      <td>56442.748656</td>\n",
       "      <td>395.000000</td>\n",
       "      <td>3.0</td>\n",
       "    </tr>\n",
       "    <tr>\n",
       "      <th>2</th>\n",
       "      <td>2022</td>\n",
       "      <td>28121</td>\n",
       "      <td>1</td>\n",
       "      <td>40511.969508</td>\n",
       "      <td>50420.818345</td>\n",
       "      <td>63990.058786</td>\n",
       "      <td>343.263856</td>\n",
       "      <td>3.5</td>\n",
       "    </tr>\n",
       "    <tr>\n",
       "      <th>3</th>\n",
       "      <td>2016</td>\n",
       "      <td>61258</td>\n",
       "      <td>1</td>\n",
       "      <td>41004.856985</td>\n",
       "      <td>28007.062500</td>\n",
       "      <td>59588.575344</td>\n",
       "      <td>343.263856</td>\n",
       "      <td>2.0</td>\n",
       "    </tr>\n",
       "    <tr>\n",
       "      <th>4</th>\n",
       "      <td>2018</td>\n",
       "      <td>59000</td>\n",
       "      <td>1</td>\n",
       "      <td>41004.856985</td>\n",
       "      <td>24723.991489</td>\n",
       "      <td>31711.979140</td>\n",
       "      <td>252.000000</td>\n",
       "      <td>2.0</td>\n",
       "    </tr>\n",
       "  </tbody>\n",
       "</table>\n",
       "</div>"
      ],
      "text/plain": [
       "   model_year  milage  accident  encoded_brand  encoded_model  \\\n",
       "0        2015   98000         1   53204.880000   19582.380000   \n",
       "1        2020    9142         1   53204.880000   74242.182266   \n",
       "2        2022   28121         1   40511.969508   50420.818345   \n",
       "3        2016   61258         1   41004.856985   28007.062500   \n",
       "4        2018   59000         1   41004.856985   24723.991489   \n",
       "\n",
       "   encoded_transmission  engine_horsepower  engine_liters  \n",
       "0          25864.659998         240.000000            2.0  \n",
       "1          56442.748656         395.000000            3.0  \n",
       "2          63990.058786         343.263856            3.5  \n",
       "3          59588.575344         343.263856            2.0  \n",
       "4          31711.979140         252.000000            2.0  "
      ]
     },
     "execution_count": 56,
     "metadata": {},
     "output_type": "execute_result"
    }
   ],
   "source": [
    "X_test.head()"
   ]
  },
  {
   "cell_type": "code",
   "execution_count": 57,
   "id": "a44c10f0",
   "metadata": {},
   "outputs": [
    {
     "name": "stdout",
     "output_type": "stream",
     "text": [
      "0.18709448903708503\n",
      "0.15114262964373792\n"
     ]
    }
   ],
   "source": [
    "#Training the model\n",
    "model= RandomForestRegressor(n_estimators=80, max_depth=8,  min_samples_leaf=7,  min_samples_split=10,  max_features='sqrt', n_jobs=-1)\n",
    "model.fit(X1, y1)\n",
    "train_score=model.score(X1, y1)\n",
    "val_score=model.score(X2, y2)\n",
    "print(train_score)\n",
    "print(val_score)"
   ]
  },
  {
   "cell_type": "code",
   "execution_count": 58,
   "id": "a986087d",
   "metadata": {},
   "outputs": [
    {
     "name": "stdout",
     "output_type": "stream",
     "text": [
      "71134.60028883479\n",
      "72331.68966660161\n"
     ]
    }
   ],
   "source": [
    "#Calculate RMSE\n",
    "y_pred1 = model.predict(X1)\n",
    "y_pred2 = model.predict(X2)\n",
    "train_mse = mean_squared_error(y1, y_pred1)\n",
    "val_mse = mean_squared_error(y2, y_pred2)\n",
    "train_rmse = np.sqrt(train_mse)\n",
    "val_rmse = np.sqrt(val_mse)\n",
    "print(train_rmse)\n",
    "print(val_rmse)"
   ]
  },
  {
   "cell_type": "code",
   "execution_count": 59,
   "id": "20d9987e",
   "metadata": {},
   "outputs": [
    {
     "name": "stdout",
     "output_type": "stream",
     "text": [
      "                Feature  Importance\n",
      "1                milage    0.294298\n",
      "4         encoded_model    0.267601\n",
      "0            model_year    0.135951\n",
      "6     engine_horsepower    0.094187\n",
      "5  encoded_transmission    0.082760\n",
      "3         encoded_brand    0.075692\n",
      "7         engine_liters    0.039113\n",
      "2              accident    0.010397\n"
     ]
    }
   ],
   "source": [
    "#Analyzing feature importances of the model\n",
    "importances = model.feature_importances_\n",
    "features_df = pd.DataFrame({\n",
    "    'Feature': X1.columns,\n",
    "    'Importance': importances\n",
    "})\n",
    "features_df = features_df.sort_values(by='Importance', ascending=False)\n",
    "print(features_df)"
   ]
  },
  {
   "cell_type": "code",
   "execution_count": 60,
   "id": "2bb9fa7f",
   "metadata": {},
   "outputs": [
    {
     "name": "stdout",
     "output_type": "stream",
     "text": [
      "Cross-validation RMSE scores: [73172.92520226 73705.87647782 71063.80516201]\n",
      "Mean RMSE: 72647.54\n",
      "Standard Deviation: 1140.81\n"
     ]
    }
   ],
   "source": [
    "#Calculating cross-validation\n",
    "model= RandomForestRegressor(n_estimators=80, max_depth=8,  min_samples_leaf=7,  min_samples_split=10,  max_features='sqrt', n_jobs=-1)\n",
    "scores = cross_val_score(model, X_train, y_train, cv=3, scoring='neg_mean_squared_error', n_jobs=-1)\n",
    "mse_scores = -scores\n",
    "rmse_scores = np.sqrt(mse_scores)\n",
    "# Print the RMSE scores for each fold\n",
    "print(\"Cross-validation RMSE scores:\", rmse_scores)\n",
    "# Print the mean and standard deviation of the RMSE scores\n",
    "print(f'Mean RMSE: {np.mean(rmse_scores):.2f}')\n",
    "print(f'Standard Deviation: {np.std(rmse_scores):.2f}')"
   ]
  },
  {
   "cell_type": "code",
   "execution_count": 61,
   "id": "8953e90e",
   "metadata": {},
   "outputs": [
    {
     "name": "stdout",
     "output_type": "stream",
     "text": [
      "Best Parameters: {'max_depth': 10, 'min_samples_leaf': 15, 'min_samples_split': 10}\n",
      "Best Score: -5290097067.274835\n"
     ]
    }
   ],
   "source": [
    "#Hyperparameter tuning using Grid Search CV\n",
    "param_grid = {\n",
    "    'min_samples_split':[5,10,15],\n",
    "    'max_depth': [10],\n",
    "    'min_samples_leaf':[5,10,15]\n",
    "}\n",
    "model=  RandomForestRegressor()\n",
    "grid_search = GridSearchCV(estimator=model, param_grid=param_grid, cv=3, scoring='neg_mean_squared_error', n_jobs=-1)\n",
    "grid_search.fit(X_train, y_train)\n",
    "print(f\"Best Parameters: {grid_search.best_params_}\")\n",
    "print(f\"Best Score: {grid_search.best_score_}\")"
   ]
  },
  {
   "cell_type": "code",
   "execution_count": 62,
   "id": "2ea58935",
   "metadata": {},
   "outputs": [
    {
     "name": "stderr",
     "output_type": "stream",
     "text": [
      "C:\\Users\\Duche\\AppData\\Local\\Temp\\ipykernel_46064\\2610432418.py:5: SettingWithCopyWarning: \n",
      "A value is trying to be set on a copy of a slice from a DataFrame.\n",
      "Try using .loc[row_indexer,col_indexer] = value instead\n",
      "\n",
      "See the caveats in the documentation: https://pandas.pydata.org/pandas-docs/stable/user_guide/indexing.html#returning-a-view-versus-a-copy\n",
      "  submissions['price']= predictions\n"
     ]
    }
   ],
   "source": [
    "# Generating the model output\n",
    "model=grid_search.best_estimator_\n",
    "predictions= model.predict(X_test)\n",
    "submissions= test[['id']]\n",
    "submissions['price']= predictions\n",
    "submissions.to_csv('submission.csv', index=None)"
   ]
  },
  {
   "cell_type": "code",
   "execution_count": null,
   "id": "5f788db9",
   "metadata": {},
   "outputs": [],
   "source": []
  }
 ],
 "metadata": {
  "kernelspec": {
   "display_name": "Python 3 (ipykernel)",
   "language": "python",
   "name": "python3"
  },
  "language_info": {
   "codemirror_mode": {
    "name": "ipython",
    "version": 3
   },
   "file_extension": ".py",
   "mimetype": "text/x-python",
   "name": "python",
   "nbconvert_exporter": "python",
   "pygments_lexer": "ipython3",
   "version": "3.10.9"
  }
 },
 "nbformat": 4,
 "nbformat_minor": 5
}
